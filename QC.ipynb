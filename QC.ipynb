{
 "cells": [
  {
   "cell_type": "code",
   "execution_count": 1,
   "metadata": {},
   "outputs": [
    {
     "name": "stderr",
     "output_type": "stream",
     "text": [
      "┌ Info: Loading DataFrames support into Gadfly.jl\n",
      "└ @ Gadfly C:\\Users\\user\\.julia\\packages\\Gadfly\\09PWZ\\src\\mapping.jl:228\n"
     ]
    }
   ],
   "source": [
    "using CSV, DataFrames, Query, Dates, Statistics, Gadfly, Distributions, StatsPlots"
   ]
  },
  {
   "cell_type": "code",
   "execution_count": 2,
   "metadata": {},
   "outputs": [
    {
     "data": {
      "text/html": [
       "<table class=\"data-frame\"><thead><tr><th></th><th>日期</th><th>廠名</th><th>導電度</th><th>氫離子濃度指標</th><th>水溫</th></tr><tr><th></th><th>Date</th><th>String</th><th>Float64</th><th>Float64</th><th>Float64</th></tr></thead><tbody><p>8,689 rows × 5 columns</p><tr><th>1</th><td>2017-01-01</td><td>觀音</td><td>6126.7</td><td>7.1</td><td>27.8</td></tr><tr><th>2</th><td>2017-01-02</td><td>觀音</td><td>6367.2</td><td>7.2</td><td>24.4</td></tr><tr><th>3</th><td>2017-01-03</td><td>觀音</td><td>5772.53</td><td>7.2</td><td>26.8</td></tr><tr><th>4</th><td>2017-01-04</td><td>觀音</td><td>5822.92</td><td>7.0</td><td>28.8</td></tr><tr><th>5</th><td>2017-01-05</td><td>觀音</td><td>5824.17</td><td>6.9</td><td>29.5</td></tr><tr><th>6</th><td>2017-01-06</td><td>觀音</td><td>5938.8</td><td>6.9</td><td>29.8</td></tr><tr><th>7</th><td>2017-01-07</td><td>觀音</td><td>6002.55</td><td>6.9</td><td>30.4</td></tr><tr><th>8</th><td>2017-01-08</td><td>觀音</td><td>5342.09</td><td>6.8</td><td>30.4</td></tr><tr><th>9</th><td>2017-01-09</td><td>觀音</td><td>5286.18</td><td>6.8</td><td>28.2</td></tr><tr><th>10</th><td>2017-01-10</td><td>觀音</td><td>5972.68</td><td>6.8</td><td>27.3</td></tr><tr><th>11</th><td>2017-01-11</td><td>觀音</td><td>6312.86</td><td>6.8</td><td>27.9</td></tr><tr><th>12</th><td>2017-01-12</td><td>觀音</td><td>6373.58</td><td>6.8</td><td>28.5</td></tr><tr><th>13</th><td>2017-01-13</td><td>觀音</td><td>5898.15</td><td>6.8</td><td>28.2</td></tr><tr><th>14</th><td>2017-01-14</td><td>觀音</td><td>5802.22</td><td>6.6</td><td>26.1</td></tr><tr><th>15</th><td>2017-01-15</td><td>觀音</td><td>6009.09</td><td>6.6</td><td>25.1</td></tr><tr><th>16</th><td>2017-01-16</td><td>觀音</td><td>5812.98</td><td>6.7</td><td>24.8</td></tr><tr><th>17</th><td>2017-01-17</td><td>觀音</td><td>5163.55</td><td>6.7</td><td>25.8</td></tr><tr><th>18</th><td>2017-01-18</td><td>觀音</td><td>4747.18</td><td>6.8</td><td>27.6</td></tr><tr><th>19</th><td>2017-01-19</td><td>觀音</td><td>4797.5</td><td>6.8</td><td>28.6</td></tr><tr><th>20</th><td>2017-01-20</td><td>觀音</td><td>5315.13</td><td>6.8</td><td>26.8</td></tr><tr><th>21</th><td>2017-01-21</td><td>觀音</td><td>5541.35</td><td>6.8</td><td>25.9</td></tr><tr><th>22</th><td>2017-01-22</td><td>觀音</td><td>5839.21</td><td>6.7</td><td>25.3</td></tr><tr><th>23</th><td>2017-01-23</td><td>觀音</td><td>6104.54</td><td>6.8</td><td>23.9</td></tr><tr><th>24</th><td>2017-01-24</td><td>觀音</td><td>6168.92</td><td>6.9</td><td>23.9</td></tr><tr><th>25</th><td>2017-01-25</td><td>觀音</td><td>6289.62</td><td>6.8</td><td>24.6</td></tr><tr><th>26</th><td>2017-01-26</td><td>觀音</td><td>6824.24</td><td>6.8</td><td>24.5</td></tr><tr><th>27</th><td>2017-01-27</td><td>觀音</td><td>7154.88</td><td>6.9</td><td>21.0</td></tr><tr><th>28</th><td>2017-01-28</td><td>觀音</td><td>7227.73</td><td>7.2</td><td>18.7</td></tr><tr><th>29</th><td>2017-01-29</td><td>觀音</td><td>6548.57</td><td>7.3</td><td>20.1</td></tr><tr><th>30</th><td>2017-01-30</td><td>觀音</td><td>3870.69</td><td>7.0</td><td>17.9</td></tr><tr><th>&vellip;</th><td>&vellip;</td><td>&vellip;</td><td>&vellip;</td><td>&vellip;</td><td>&vellip;</td></tr></tbody></table>"
      ],
      "text/latex": [
       "\\begin{tabular}{r|ccccc}\n",
       "\t& 日期 & 廠名 & 導電度 & 氫離子濃度指標 & 水溫\\\\\n",
       "\t\\hline\n",
       "\t& Date & String & Float64 & Float64 & Float64\\\\\n",
       "\t\\hline\n",
       "\t1 & 2017-01-01 & 觀音 & 6126.7 & 7.1 & 27.8 \\\\\n",
       "\t2 & 2017-01-02 & 觀音 & 6367.2 & 7.2 & 24.4 \\\\\n",
       "\t3 & 2017-01-03 & 觀音 & 5772.53 & 7.2 & 26.8 \\\\\n",
       "\t4 & 2017-01-04 & 觀音 & 5822.92 & 7.0 & 28.8 \\\\\n",
       "\t5 & 2017-01-05 & 觀音 & 5824.17 & 6.9 & 29.5 \\\\\n",
       "\t6 & 2017-01-06 & 觀音 & 5938.8 & 6.9 & 29.8 \\\\\n",
       "\t7 & 2017-01-07 & 觀音 & 6002.55 & 6.9 & 30.4 \\\\\n",
       "\t8 & 2017-01-08 & 觀音 & 5342.09 & 6.8 & 30.4 \\\\\n",
       "\t9 & 2017-01-09 & 觀音 & 5286.18 & 6.8 & 28.2 \\\\\n",
       "\t10 & 2017-01-10 & 觀音 & 5972.68 & 6.8 & 27.3 \\\\\n",
       "\t11 & 2017-01-11 & 觀音 & 6312.86 & 6.8 & 27.9 \\\\\n",
       "\t12 & 2017-01-12 & 觀音 & 6373.58 & 6.8 & 28.5 \\\\\n",
       "\t13 & 2017-01-13 & 觀音 & 5898.15 & 6.8 & 28.2 \\\\\n",
       "\t14 & 2017-01-14 & 觀音 & 5802.22 & 6.6 & 26.1 \\\\\n",
       "\t15 & 2017-01-15 & 觀音 & 6009.09 & 6.6 & 25.1 \\\\\n",
       "\t16 & 2017-01-16 & 觀音 & 5812.98 & 6.7 & 24.8 \\\\\n",
       "\t17 & 2017-01-17 & 觀音 & 5163.55 & 6.7 & 25.8 \\\\\n",
       "\t18 & 2017-01-18 & 觀音 & 4747.18 & 6.8 & 27.6 \\\\\n",
       "\t19 & 2017-01-19 & 觀音 & 4797.5 & 6.8 & 28.6 \\\\\n",
       "\t20 & 2017-01-20 & 觀音 & 5315.13 & 6.8 & 26.8 \\\\\n",
       "\t21 & 2017-01-21 & 觀音 & 5541.35 & 6.8 & 25.9 \\\\\n",
       "\t22 & 2017-01-22 & 觀音 & 5839.21 & 6.7 & 25.3 \\\\\n",
       "\t23 & 2017-01-23 & 觀音 & 6104.54 & 6.8 & 23.9 \\\\\n",
       "\t24 & 2017-01-24 & 觀音 & 6168.92 & 6.9 & 23.9 \\\\\n",
       "\t25 & 2017-01-25 & 觀音 & 6289.62 & 6.8 & 24.6 \\\\\n",
       "\t26 & 2017-01-26 & 觀音 & 6824.24 & 6.8 & 24.5 \\\\\n",
       "\t27 & 2017-01-27 & 觀音 & 7154.88 & 6.9 & 21.0 \\\\\n",
       "\t28 & 2017-01-28 & 觀音 & 7227.73 & 7.2 & 18.7 \\\\\n",
       "\t29 & 2017-01-29 & 觀音 & 6548.57 & 7.3 & 20.1 \\\\\n",
       "\t30 & 2017-01-30 & 觀音 & 3870.69 & 7.0 & 17.9 \\\\\n",
       "\t$\\dots$ & $\\dots$ & $\\dots$ & $\\dots$ & $\\dots$ & $\\dots$ \\\\\n",
       "\\end{tabular}\n"
      ],
      "text/plain": [
       "8689×5 DataFrame\n",
       "│ Row  │ 日期       │ 廠名     │ 導電度  │ 氫離子濃度指標 │ 水溫    │\n",
       "│      │ \u001b[90mDate\u001b[39m       │ \u001b[90mString\u001b[39m   │ \u001b[90mFloat64\u001b[39m │ \u001b[90mFloat64\u001b[39m        │ \u001b[90mFloat64\u001b[39m │\n",
       "├──────┼────────────┼──────────┼─────────┼────────────────┼─────────┤\n",
       "│ 1    │ 2017-01-01 │ 觀音     │ 6126.7  │ 7.1            │ 27.8    │\n",
       "│ 2    │ 2017-01-02 │ 觀音     │ 6367.2  │ 7.2            │ 24.4    │\n",
       "│ 3    │ 2017-01-03 │ 觀音     │ 5772.53 │ 7.2            │ 26.8    │\n",
       "│ 4    │ 2017-01-04 │ 觀音     │ 5822.92 │ 7.0            │ 28.8    │\n",
       "│ 5    │ 2017-01-05 │ 觀音     │ 5824.17 │ 6.9            │ 29.5    │\n",
       "│ 6    │ 2017-01-06 │ 觀音     │ 5938.8  │ 6.9            │ 29.8    │\n",
       "│ 7    │ 2017-01-07 │ 觀音     │ 6002.55 │ 6.9            │ 30.4    │\n",
       "│ 8    │ 2017-01-08 │ 觀音     │ 5342.09 │ 6.8            │ 30.4    │\n",
       "│ 9    │ 2017-01-09 │ 觀音     │ 5286.18 │ 6.8            │ 28.2    │\n",
       "│ 10   │ 2017-01-10 │ 觀音     │ 5972.68 │ 6.8            │ 27.3    │\n",
       "⋮\n",
       "│ 8679 │ 2017-12-11 │ 彰濱線西 │ 6142.83 │ 7.2            │ 22.1    │\n",
       "│ 8680 │ 2017-12-11 │ 龍德     │ 1743.05 │ 6.6            │ 20.2    │\n",
       "│ 8681 │ 2017-12-11 │ 臨海     │ 9947.97 │ 6.6            │ 29.0    │\n",
       "│ 8682 │ 2017-12-11 │ 永安     │ 8853.18 │ 6.8            │ 22.7    │\n",
       "│ 8683 │ 2017-12-11 │ 竹圍子   │ 3518.96 │ 7.2            │ 24.9    │\n",
       "│ 8684 │ 2017-12-11 │ 永康     │ 2898.05 │ 7.9            │ 22.9    │\n",
       "│ 8685 │ 2017-12-11 │ 全興     │ 1446.51 │ 6.6            │ 31.0    │\n",
       "│ 8686 │ 2017-12-11 │ 新竹     │ 3477.18 │ 6.9            │ 24.0    │\n",
       "│ 8687 │ 2017-12-11 │ 土城     │ 5263.09 │ 7.2            │ 25.6    │\n",
       "│ 8688 │ 2017-12-11 │ 林園     │ 10153.3 │ 7.4            │ 23.0    │\n",
       "│ 8689 │ 2017-12-11 │ 桃園幼獅 │ 3843.63 │ 6.9            │ 17.1    │"
      ]
     },
     "execution_count": 2,
     "metadata": {},
     "output_type": "execute_result"
    }
   ],
   "source": [
    "data = CSV.read(\"water.csv\")\n",
    "data = data |>\n",
    "    @filter(_.水溫 != \"#VALUE!\") |>\n",
    "    @filter(_.氫離子濃度指標 != \"#VALUE!\") |>\n",
    "    DataFrame\n",
    "\n",
    "data.日期 = Date.(data.日期, \"yyyy/mm/dd\")\n",
    "data.氫離子濃度指標 = parse.(Float64, data.氫離子濃度指標)\n",
    "data.水溫 = parse.(Float64, data.水溫)\n",
    "# 將導電度控制在25°C下 (每上升1°C, 導電度約上升2%)\n",
    "data.導電度 = data.導電度 .* (1.02).^(25 .- data.水溫)\n",
    "data"
   ]
  },
  {
   "cell_type": "code",
   "execution_count": 3,
   "metadata": {},
   "outputs": [
    {
     "data": {
      "application/vnd.dataresource+json": {
       "data": [
        {
         "v1": "觀音",
         "v2": 318
        },
        {
         "v1": "大武崙",
         "v2": 277
        },
        {
         "v1": "台中",
         "v2": 270
        },
        {
         "v1": "安平",
         "v2": 269
        },
        {
         "v1": "全興",
         "v2": 269
        },
        {
         "v1": "斗六",
         "v2": 268
        },
        {
         "v1": "新營",
         "v2": 268
        },
        {
         "v1": "大甲幼獅",
         "v2": 268
        },
        {
         "v1": "臨海",
         "v2": 267
        },
        {
         "v1": "台南科技",
         "v2": 266
        },
        {
         "v1": "大社",
         "v2": 266
        },
        {
         "v1": "新北",
         "v2": 266
        },
        {
         "v1": "龜山",
         "v2": 265
        },
        {
         "v1": "龍德",
         "v2": 263
        },
        {
         "v1": "屏南",
         "v2": 262
        },
        {
         "v1": "彰濱鹿港",
         "v2": 261
        },
        {
         "v1": "林園",
         "v2": 261
        },
        {
         "v1": "永康",
         "v2": 260
        },
        {
         "v1": "彰濱線西",
         "v2": 258
        },
        {
         "v1": "竹圍子",
         "v2": 258
        },
        {
         "v1": "大發",
         "v2": 258
        },
        {
         "v1": "芳苑",
         "v2": 254
        },
        {
         "v1": "新竹",
         "v2": 253
        },
        {
         "v1": "南崗",
         "v2": 252
        },
        {
         "v1": "中壢",
         "v2": 252
        },
        {
         "v1": "官田",
         "v2": 252
        },
        {
         "v1": "民雄",
         "v2": 250
        },
        {
         "v1": "平鎮",
         "v2": 249
        },
        {
         "v1": "內埔",
         "v2": 243
        },
        {
         "v1": "雲林科技",
         "v2": 241
        },
        {
         "v1": "土城",
         "v2": 222
        },
        {
         "v1": "永安",
         "v2": 219
        },
        {
         "v1": "桃園幼獅",
         "v2": 200
        },
        {
         "v1": "大園",
         "v2": 184
        }
       ],
       "schema": {
        "fields": [
         {
          "name": "v1",
          "type": "string"
         },
         {
          "name": "v2",
          "type": "integer"
         }
        ]
       }
      },
      "text/html": [
       "<table><thead><tr><th>v1</th><th>v2</th></tr></thead><tbody><tr><td>&quot;觀音&quot;</td><td>318</td></tr><tr><td>&quot;大武崙&quot;</td><td>277</td></tr><tr><td>&quot;台中&quot;</td><td>270</td></tr><tr><td>&quot;安平&quot;</td><td>269</td></tr><tr><td>&quot;全興&quot;</td><td>269</td></tr><tr><td>&quot;斗六&quot;</td><td>268</td></tr><tr><td>&quot;新營&quot;</td><td>268</td></tr><tr><td>&quot;大甲幼獅&quot;</td><td>268</td></tr><tr><td>&quot;臨海&quot;</td><td>267</td></tr><tr><td>&quot;台南科技&quot;</td><td>266</td></tr><tr><td>&vellip;</td><td>&vellip;</td></tr></tbody></table><p>... with more rows.</p>"
      ],
      "text/plain": [
       "?x2 query result\n",
       "v1   │ v2 \n",
       "─────┼────\n",
       "觀音   │ 318\n",
       "大武崙  │ 277\n",
       "台中   │ 270\n",
       "安平   │ 269\n",
       "全興   │ 269\n",
       "斗六   │ 268\n",
       "新營   │ 268\n",
       "大甲幼獅 │ 268\n",
       "臨海   │ 267\n",
       "台南科技 │ 266\n",
       "... with more rows"
      ]
     },
     "execution_count": 3,
     "metadata": {},
     "output_type": "execute_result"
    }
   ],
   "source": [
    "data |>\n",
    "    @groupby(_.廠名) |>\n",
    "    @map({v1 = key(_), v2 = size(_, 1)}) |>\n",
    "    @orderby_descending(_.v2)"
   ]
  },
  {
   "cell_type": "code",
   "execution_count": 4,
   "metadata": {},
   "outputs": [
    {
     "data": {
      "text/html": [
       "<table class=\"data-frame\"><thead><tr><th></th><th>日期</th><th>廠名</th><th>導電度</th><th>氫離子濃度指標</th><th>水溫</th></tr><tr><th></th><th>Date</th><th>String</th><th>Float64</th><th>Float64</th><th>Float64</th></tr></thead><tbody><p>277 rows × 5 columns</p><tr><th>1</th><td>2017-03-02</td><td>大武崙</td><td>863.249</td><td>7.6</td><td>18.7</td></tr><tr><th>2</th><td>2017-03-03</td><td>大武崙</td><td>1018.51</td><td>7.5</td><td>19.2</td></tr><tr><th>3</th><td>2017-03-04</td><td>大武崙</td><td>566.424</td><td>7.4</td><td>19.8</td></tr><tr><th>4</th><td>2017-03-05</td><td>大武崙</td><td>481.529</td><td>7.4</td><td>20.1</td></tr><tr><th>5</th><td>2017-03-06</td><td>大武崙</td><td>359.017</td><td>7.4</td><td>16.6</td></tr><tr><th>6</th><td>2017-03-07</td><td>大武崙</td><td>366.197</td><td>7.4</td><td>15.6</td></tr><tr><th>7</th><td>2017-03-08</td><td>大武崙</td><td>382.405</td><td>7.5</td><td>14.4</td></tr><tr><th>8</th><td>2017-03-09</td><td>大武崙</td><td>380.497</td><td>7.7</td><td>15.3</td></tr><tr><th>9</th><td>2017-03-10</td><td>大武崙</td><td>573.194</td><td>7.9</td><td>18.0</td></tr><tr><th>10</th><td>2017-03-11</td><td>大武崙</td><td>648.51</td><td>7.6</td><td>19.1</td></tr><tr><th>11</th><td>2017-03-12</td><td>大武崙</td><td>914.964</td><td>7.3</td><td>20.2</td></tr><tr><th>12</th><td>2017-03-13</td><td>大武崙</td><td>1595.67</td><td>7.0</td><td>21.2</td></tr><tr><th>13</th><td>2017-03-14</td><td>大武崙</td><td>1357.16</td><td>7.2</td><td>20.4</td></tr><tr><th>14</th><td>2017-03-15</td><td>大武崙</td><td>1072.99</td><td>7.7</td><td>19.8</td></tr><tr><th>15</th><td>2017-03-16</td><td>大武崙</td><td>1679.32</td><td>7.1</td><td>19.9</td></tr><tr><th>16</th><td>2017-03-19</td><td>大武崙</td><td>933.255</td><td>7.6</td><td>20.4</td></tr><tr><th>17</th><td>2017-03-20</td><td>大武崙</td><td>1109.16</td><td>7.4</td><td>21.7</td></tr><tr><th>18</th><td>2017-03-21</td><td>大武崙</td><td>1135.74</td><td>7.4</td><td>21.8</td></tr><tr><th>19</th><td>2017-03-22</td><td>大武崙</td><td>1090.92</td><td>7.5</td><td>22.0</td></tr><tr><th>20</th><td>2017-03-23</td><td>大武崙</td><td>1684.88</td><td>7.5</td><td>22.2</td></tr><tr><th>21</th><td>2017-03-24</td><td>大武崙</td><td>1877.76</td><td>7.6</td><td>22.3</td></tr><tr><th>22</th><td>2017-03-25</td><td>大武崙</td><td>1449.61</td><td>7.7</td><td>22.0</td></tr><tr><th>23</th><td>2017-03-26</td><td>大武崙</td><td>1028.7</td><td>7.7</td><td>20.5</td></tr><tr><th>24</th><td>2017-03-27</td><td>大武崙</td><td>1412.63</td><td>7.5</td><td>20.1</td></tr><tr><th>25</th><td>2017-03-28</td><td>大武崙</td><td>1715.94</td><td>7.5</td><td>20.8</td></tr><tr><th>26</th><td>2017-03-29</td><td>大武崙</td><td>1421.56</td><td>7.6</td><td>21.6</td></tr><tr><th>27</th><td>2017-03-30</td><td>大武崙</td><td>1420.63</td><td>7.6</td><td>22.2</td></tr><tr><th>28</th><td>2017-03-31</td><td>大武崙</td><td>2082.59</td><td>7.4</td><td>22.5</td></tr><tr><th>29</th><td>2017-04-01</td><td>大武崙</td><td>1514.9</td><td>7.4</td><td>20.8</td></tr><tr><th>30</th><td>2017-04-02</td><td>大武崙</td><td>1114.01</td><td>7.8</td><td>19.9</td></tr><tr><th>&vellip;</th><td>&vellip;</td><td>&vellip;</td><td>&vellip;</td><td>&vellip;</td><td>&vellip;</td></tr></tbody></table>"
      ],
      "text/latex": [
       "\\begin{tabular}{r|ccccc}\n",
       "\t& 日期 & 廠名 & 導電度 & 氫離子濃度指標 & 水溫\\\\\n",
       "\t\\hline\n",
       "\t& Date & String & Float64 & Float64 & Float64\\\\\n",
       "\t\\hline\n",
       "\t1 & 2017-03-02 & 大武崙 & 863.249 & 7.6 & 18.7 \\\\\n",
       "\t2 & 2017-03-03 & 大武崙 & 1018.51 & 7.5 & 19.2 \\\\\n",
       "\t3 & 2017-03-04 & 大武崙 & 566.424 & 7.4 & 19.8 \\\\\n",
       "\t4 & 2017-03-05 & 大武崙 & 481.529 & 7.4 & 20.1 \\\\\n",
       "\t5 & 2017-03-06 & 大武崙 & 359.017 & 7.4 & 16.6 \\\\\n",
       "\t6 & 2017-03-07 & 大武崙 & 366.197 & 7.4 & 15.6 \\\\\n",
       "\t7 & 2017-03-08 & 大武崙 & 382.405 & 7.5 & 14.4 \\\\\n",
       "\t8 & 2017-03-09 & 大武崙 & 380.497 & 7.7 & 15.3 \\\\\n",
       "\t9 & 2017-03-10 & 大武崙 & 573.194 & 7.9 & 18.0 \\\\\n",
       "\t10 & 2017-03-11 & 大武崙 & 648.51 & 7.6 & 19.1 \\\\\n",
       "\t11 & 2017-03-12 & 大武崙 & 914.964 & 7.3 & 20.2 \\\\\n",
       "\t12 & 2017-03-13 & 大武崙 & 1595.67 & 7.0 & 21.2 \\\\\n",
       "\t13 & 2017-03-14 & 大武崙 & 1357.16 & 7.2 & 20.4 \\\\\n",
       "\t14 & 2017-03-15 & 大武崙 & 1072.99 & 7.7 & 19.8 \\\\\n",
       "\t15 & 2017-03-16 & 大武崙 & 1679.32 & 7.1 & 19.9 \\\\\n",
       "\t16 & 2017-03-19 & 大武崙 & 933.255 & 7.6 & 20.4 \\\\\n",
       "\t17 & 2017-03-20 & 大武崙 & 1109.16 & 7.4 & 21.7 \\\\\n",
       "\t18 & 2017-03-21 & 大武崙 & 1135.74 & 7.4 & 21.8 \\\\\n",
       "\t19 & 2017-03-22 & 大武崙 & 1090.92 & 7.5 & 22.0 \\\\\n",
       "\t20 & 2017-03-23 & 大武崙 & 1684.88 & 7.5 & 22.2 \\\\\n",
       "\t21 & 2017-03-24 & 大武崙 & 1877.76 & 7.6 & 22.3 \\\\\n",
       "\t22 & 2017-03-25 & 大武崙 & 1449.61 & 7.7 & 22.0 \\\\\n",
       "\t23 & 2017-03-26 & 大武崙 & 1028.7 & 7.7 & 20.5 \\\\\n",
       "\t24 & 2017-03-27 & 大武崙 & 1412.63 & 7.5 & 20.1 \\\\\n",
       "\t25 & 2017-03-28 & 大武崙 & 1715.94 & 7.5 & 20.8 \\\\\n",
       "\t26 & 2017-03-29 & 大武崙 & 1421.56 & 7.6 & 21.6 \\\\\n",
       "\t27 & 2017-03-30 & 大武崙 & 1420.63 & 7.6 & 22.2 \\\\\n",
       "\t28 & 2017-03-31 & 大武崙 & 2082.59 & 7.4 & 22.5 \\\\\n",
       "\t29 & 2017-04-01 & 大武崙 & 1514.9 & 7.4 & 20.8 \\\\\n",
       "\t30 & 2017-04-02 & 大武崙 & 1114.01 & 7.8 & 19.9 \\\\\n",
       "\t$\\dots$ & $\\dots$ & $\\dots$ & $\\dots$ & $\\dots$ & $\\dots$ \\\\\n",
       "\\end{tabular}\n"
      ],
      "text/plain": [
       "277×5 DataFrame\n",
       "│ Row │ 日期       │ 廠名   │ 導電度  │ 氫離子濃度指標 │ 水溫    │\n",
       "│     │ \u001b[90mDate\u001b[39m       │ \u001b[90mString\u001b[39m │ \u001b[90mFloat64\u001b[39m │ \u001b[90mFloat64\u001b[39m        │ \u001b[90mFloat64\u001b[39m │\n",
       "├─────┼────────────┼────────┼─────────┼────────────────┼─────────┤\n",
       "│ 1   │ 2017-03-02 │ 大武崙 │ 863.249 │ 7.6            │ 18.7    │\n",
       "│ 2   │ 2017-03-03 │ 大武崙 │ 1018.51 │ 7.5            │ 19.2    │\n",
       "│ 3   │ 2017-03-04 │ 大武崙 │ 566.424 │ 7.4            │ 19.8    │\n",
       "│ 4   │ 2017-03-05 │ 大武崙 │ 481.529 │ 7.4            │ 20.1    │\n",
       "│ 5   │ 2017-03-06 │ 大武崙 │ 359.017 │ 7.4            │ 16.6    │\n",
       "│ 6   │ 2017-03-07 │ 大武崙 │ 366.197 │ 7.4            │ 15.6    │\n",
       "│ 7   │ 2017-03-08 │ 大武崙 │ 382.405 │ 7.5            │ 14.4    │\n",
       "│ 8   │ 2017-03-09 │ 大武崙 │ 380.497 │ 7.7            │ 15.3    │\n",
       "│ 9   │ 2017-03-10 │ 大武崙 │ 573.194 │ 7.9            │ 18.0    │\n",
       "│ 10  │ 2017-03-11 │ 大武崙 │ 648.51  │ 7.6            │ 19.1    │\n",
       "⋮\n",
       "│ 267 │ 2017-12-01 │ 大武崙 │ 1246.54 │ 7.4            │ 21.8    │\n",
       "│ 268 │ 2017-12-02 │ 大武崙 │ 1084.63 │ 7.0            │ 21.3    │\n",
       "│ 269 │ 2017-12-03 │ 大武崙 │ 473.167 │ 7.1            │ 21.1    │\n",
       "│ 270 │ 2017-12-04 │ 大武崙 │ 509.752 │ 7.0            │ 20.9    │\n",
       "│ 271 │ 2017-12-05 │ 大武崙 │ 922.461 │ 7.1            │ 19.3    │\n",
       "│ 272 │ 2017-12-06 │ 大武崙 │ 1981.66 │ 7.0            │ 18.2    │\n",
       "│ 273 │ 2017-12-07 │ 大武崙 │ 1842.07 │ 7.4            │ 18.2    │\n",
       "│ 274 │ 2017-12-08 │ 大武崙 │ 1239.74 │ 7.6            │ 17.8    │\n",
       "│ 275 │ 2017-12-09 │ 大武崙 │ 1082.13 │ 6.9            │ 18.9    │\n",
       "│ 276 │ 2017-12-10 │ 大武崙 │ 1100.33 │ 7.5            │ 19.1    │\n",
       "│ 277 │ 2017-12-11 │ 大武崙 │ 1596.35 │ 7.1            │ 19.9    │"
      ]
     },
     "execution_count": 4,
     "metadata": {},
     "output_type": "execute_result"
    }
   ],
   "source": [
    "# 基隆大武崙\n",
    "df = data |>\n",
    "    @filter(_.廠名 == \"大武崙\") |>\n",
    "    DataFrame\n",
    "\n",
    "\n",
    "df"
   ]
  },
  {
   "cell_type": "code",
   "execution_count": 153,
   "metadata": {},
   "outputs": [
    {
     "data": {
      "text/plain": [
       "(1406.0518488883372, 841.7141561795763)"
      ]
     },
     "execution_count": 153,
     "metadata": {},
     "output_type": "execute_result"
    }
   ],
   "source": [
    "xbb = 0\n",
    "rb = 0\n",
    "r = []\n",
    "xb = []\n",
    "for m in 1:25\n",
    "    append!(xb, mean(df.導電度[7(m-1) .+ collect(1:7)]))\n",
    "    append!(r, maximum(df.導電度[7(m-1) .+ collect(1:7)]) - minimum(df.導電度[7(m-1) .+ collect(1:7)]))\n",
    "    xbb += xb[m]/25\n",
    "    rb += r[m]/25\n",
    "end\n",
    "xbb,rb"
   ]
  },
  {
   "cell_type": "code",
   "execution_count": 154,
   "metadata": {},
   "outputs": [
    {
     "data": {
      "text/plain": [
       "false"
      ]
     },
     "execution_count": 154,
     "metadata": {},
     "output_type": "execute_result"
    }
   ],
   "source": [
    "# phase1 rb1\n",
    "p1 = Gadfly.plot(\n",
    "    layer(x = 1:25, y = r, Geom.point, Geom.line),\n",
    "    layer(yintercept = [rb, 0.076rb, 1.924rb], Geom.hline(color = \"red\", style = :dot))\n",
    ")\n",
    "draw(SVG(\"rbar1.svg\", 6inch, 4inch), p1)"
   ]
  },
  {
   "cell_type": "code",
   "execution_count": 155,
   "metadata": {
    "scrolled": false
   },
   "outputs": [
    {
     "data": {
      "text/plain": [
       "false"
      ]
     },
     "execution_count": 155,
     "metadata": {},
     "output_type": "execute_result"
    }
   ],
   "source": [
    "# phase1 xb1\n",
    "p2 = Gadfly.plot(\n",
    "    layer(x = 1:25, y = xb, Geom.point, Geom.line),\n",
    "    layer(yintercept = [xbb, xbb + 0.419rb, xbb - 0.419rb], Geom.hline(color = \"red\", style = :dot))\n",
    ")\n",
    "draw(SVG(\"xbar1.svg\", 6inch, 4inch), p2)"
   ]
  },
  {
   "cell_type": "code",
   "execution_count": 156,
   "metadata": {},
   "outputs": [
    {
     "data": {
      "text/plain": [
       "(1511.7930624013854, 878.6226278892873)"
      ]
     },
     "execution_count": 156,
     "metadata": {},
     "output_type": "execute_result"
    }
   ],
   "source": [
    "i = 0\n",
    "xbb = 0\n",
    "rb = 0\n",
    "r = []\n",
    "xb = []\n",
    "for m in deleteat!(collect(1:25), [1,2,15,19,20,23])\n",
    "    i += 1\n",
    "    append!(xb, mean(df.導電度[7(m-1) .+ collect(1:7)]))\n",
    "    append!(r, maximum(df.導電度[7(m-1) .+ collect(1:7)]) - minimum(df.導電度[7(m-1) .+ collect(1:7)]))\n",
    "    xbb += xb[i]/19\n",
    "    rb += r[i]/19\n",
    "end\n",
    "xbb,rb"
   ]
  },
  {
   "cell_type": "code",
   "execution_count": 157,
   "metadata": {},
   "outputs": [
    {
     "data": {
      "text/plain": [
       "false"
      ]
     },
     "execution_count": 157,
     "metadata": {},
     "output_type": "execute_result"
    }
   ],
   "source": [
    "# phase1 rb2\n",
    "p1 = Gadfly.plot(\n",
    "    layer(x = deleteat!(collect(1:25), [1,2,15,19,20,23]), y = r, Geom.point, Geom.line),\n",
    "    layer(yintercept = [rb, 0.076rb, 1.924rb], Geom.hline(color = \"red\", style = :dot))\n",
    ")\n",
    "draw(SVG(\"rbar2.svg\", 6inch, 4inch), p1)"
   ]
  },
  {
   "cell_type": "code",
   "execution_count": 158,
   "metadata": {},
   "outputs": [
    {
     "data": {
      "text/plain": [
       "false"
      ]
     },
     "execution_count": 158,
     "metadata": {},
     "output_type": "execute_result"
    }
   ],
   "source": [
    "p2 = Gadfly.plot(\n",
    "    layer(x = deleteat!(collect(1:25), [1,2,15,19,20,23]), y = xb, Geom.point, Geom.line),\n",
    "    layer(yintercept = [xbb, xbb + 0.419rb, xbb - 0.419rb], Geom.hline(color = \"red\", style = :dot))\n",
    ")\n",
    "draw(SVG(\"xbar2.svg\", 6inch, 4inch), p2)"
   ]
  },
  {
   "cell_type": "code",
   "execution_count": 161,
   "metadata": {
    "scrolled": false
   },
   "outputs": [],
   "source": [
    "# plot(x = sort(df.導電度[1:25]), y = Normal(mean(df.導電度[1:25]), std(df.導電度[1:25])), Stat.qq, Geom.point)\n",
    "p12 = qqnorm(df.導電度[deleteat!(collect(1:25), [1,2,15,19,20,23])], qqline = :R)\n",
    "savefig(\"qq\")"
   ]
  },
  {
   "cell_type": "code",
   "execution_count": 162,
   "metadata": {},
   "outputs": [],
   "source": [
    "new_xb = []\n",
    "new_r = []\n",
    "for m in 26:39\n",
    "    append!(new_xb, mean(df.導電度[7(m-1) .+ collect(1:7)]))\n",
    "    append!(new_r, maximum(df.導電度[7(m-1) .+ collect(1:7)]) - minimum(df.導電度[7(m-1) .+ collect(1:7)]))\n",
    "end"
   ]
  },
  {
   "cell_type": "code",
   "execution_count": 163,
   "metadata": {},
   "outputs": [
    {
     "data": {
      "text/plain": [
       "false"
      ]
     },
     "execution_count": 163,
     "metadata": {},
     "output_type": "execute_result"
    }
   ],
   "source": [
    "p3 = Gadfly.plot(\n",
    "    layer(x = 1:14, y = new_r, Geom.point, Geom.line),\n",
    "    layer(yintercept = [rb, 0.076rb, 1.924rb], Geom.hline(color = \"red\", style = :dot))\n",
    ")\n",
    "draw(SVG(\"rbar3.svg\", 6inch, 4inch), p3)"
   ]
  },
  {
   "cell_type": "code",
   "execution_count": 164,
   "metadata": {},
   "outputs": [
    {
     "data": {
      "text/plain": [
       "false"
      ]
     },
     "execution_count": 164,
     "metadata": {},
     "output_type": "execute_result"
    }
   ],
   "source": [
    "p4 = Gadfly.plot(\n",
    "    layer(x = 1:14, y = new_xb, Geom.point, Geom.line),\n",
    "    layer(yintercept = [xbb, xbb + 0.419rb, xbb - 0.419rb], Geom.hline(color = \"red\", style = :dot))\n",
    ")\n",
    "draw(SVG(\"xbar3.svg\", 6inch, 4inch), p4)"
   ]
  },
  {
   "cell_type": "code",
   "execution_count": 165,
   "metadata": {},
   "outputs": [
    {
     "data": {
      "text/plain": [
       "(1406.0518488883372, 302.1556803290977)"
      ]
     },
     "execution_count": 165,
     "metadata": {},
     "output_type": "execute_result"
    }
   ],
   "source": [
    "xbb = 0\n",
    "sb = 0\n",
    "s = []\n",
    "xb = []\n",
    "for m in 1:25\n",
    "    append!(xb, mean(df.導電度[7(m-1) .+ collect(1:7)]))\n",
    "    append!(s, std(df.導電度[7(m-1) .+ collect(1:7)]))\n",
    "    xbb += xb[m]/25\n",
    "    sb += s[m]/25\n",
    "end\n",
    "xbb,sb"
   ]
  },
  {
   "cell_type": "code",
   "execution_count": 166,
   "metadata": {},
   "outputs": [
    {
     "data": {
      "text/plain": [
       "false"
      ]
     },
     "execution_count": 166,
     "metadata": {},
     "output_type": "execute_result"
    }
   ],
   "source": [
    "# phase1 sb1\n",
    "p5 = Gadfly.plot(\n",
    "    layer(x = 1:25, y = s, Geom.point, Geom.line),\n",
    "    layer(yintercept = [sb, 0.118sb, 1.882sb], Geom.hline(color = \"red\", style = :dot))\n",
    ")\n",
    "draw(SVG(\"sbar4.svg\", 6inch, 4inch), p5)"
   ]
  },
  {
   "cell_type": "code",
   "execution_count": 167,
   "metadata": {},
   "outputs": [
    {
     "data": {
      "text/plain": [
       "false"
      ]
     },
     "execution_count": 167,
     "metadata": {},
     "output_type": "execute_result"
    }
   ],
   "source": [
    "# phase1 xb1\n",
    "p6 = Gadfly.plot(\n",
    "    layer(x = 1:25, y = xb, Geom.point, Geom.line),\n",
    "    layer(yintercept = [xbb, xbb + 1.182sb, xbb - 1.182sb], Geom.hline(color = \"red\", style = :dot))\n",
    ")\n",
    "draw(SVG(\"xbar4.svg\", 6inch, 4inch), p6)"
   ]
  },
  {
   "cell_type": "code",
   "execution_count": 168,
   "metadata": {},
   "outputs": [
    {
     "data": {
      "text/plain": [
       "(1511.7930624013854, 312.8631614020924)"
      ]
     },
     "execution_count": 168,
     "metadata": {},
     "output_type": "execute_result"
    }
   ],
   "source": [
    "i = 0\n",
    "xbb = 0\n",
    "sb = 0\n",
    "s = []\n",
    "xb = []\n",
    "for m in deleteat!(collect(1:25), [1,2,15,19,20,23])\n",
    "    i += 1\n",
    "    append!(xb, mean(df.導電度[7(m-1) .+ collect(1:7)]))\n",
    "    append!(s, std(df.導電度[7(m-1) .+ collect(1:7)]))\n",
    "    xbb += xb[i]/19\n",
    "    sb += s[i]/19\n",
    "end\n",
    "xbb,sb"
   ]
  },
  {
   "cell_type": "code",
   "execution_count": 169,
   "metadata": {},
   "outputs": [
    {
     "data": {
      "text/plain": [
       "false"
      ]
     },
     "execution_count": 169,
     "metadata": {},
     "output_type": "execute_result"
    }
   ],
   "source": [
    "# phase1 sb2\n",
    "p7 = Gadfly.plot(\n",
    "    layer(x = deleteat!(collect(1:25), [1,2,15,19,20,23]), y = s, Geom.point, Geom.line),\n",
    "    layer(yintercept = [sb, 0.118sb, 1.882sb], Geom.hline(color = \"red\", style = :dot))\n",
    ")\n",
    "draw(SVG(\"sbar5.svg\", 6inch, 4inch), p7)"
   ]
  },
  {
   "cell_type": "code",
   "execution_count": 170,
   "metadata": {},
   "outputs": [
    {
     "data": {
      "text/plain": [
       "false"
      ]
     },
     "execution_count": 170,
     "metadata": {},
     "output_type": "execute_result"
    }
   ],
   "source": [
    "# phase1 xb2\n",
    "p8 = Gadfly.plot(\n",
    "    layer(x = deleteat!(collect(1:25), [1,2,15,19,20,23]), y = xb, Geom.point, Geom.line),\n",
    "    layer(yintercept = [xbb, xbb + 1.182sb, xbb - 1.182sb], Geom.hline(color = \"red\", style = :dot))\n",
    ")\n",
    "draw(SVG(\"xbar5.svg\", 6inch, 4inch), p8)"
   ]
  },
  {
   "cell_type": "code",
   "execution_count": 115,
   "metadata": {},
   "outputs": [
    {
     "data": {
      "image/svg+xml": [
       "<?xml version=\"1.0\" encoding=\"utf-8\"?>\n",
       "<svg xmlns=\"http://www.w3.org/2000/svg\" xmlns:xlink=\"http://www.w3.org/1999/xlink\" width=\"600\" height=\"400\" viewBox=\"0 0 2400 1600\">\n",
       "<defs>\n",
       "  <clipPath id=\"clip3300\">\n",
       "    <rect x=\"0\" y=\"0\" width=\"2400\" height=\"1600\"/>\n",
       "  </clipPath>\n",
       "</defs>\n",
       "<path clip-path=\"url(#clip3300)\" d=\"\n",
       "M0 1600 L2400 1600 L2400 0 L0 0  Z\n",
       "  \" fill=\"#ffffff\" fill-rule=\"evenodd\" fill-opacity=\"1\"/>\n",
       "<defs>\n",
       "  <clipPath id=\"clip3301\">\n",
       "    <rect x=\"480\" y=\"0\" width=\"1681\" height=\"1600\"/>\n",
       "  </clipPath>\n",
       "</defs>\n",
       "<path clip-path=\"url(#clip3300)\" d=\"\n",
       "M194.041 1487.47 L2352.76 1487.47 L2352.76 47.2441 L194.041 47.2441  Z\n",
       "  \" fill=\"#ffffff\" fill-rule=\"evenodd\" fill-opacity=\"1\"/>\n",
       "<defs>\n",
       "  <clipPath id=\"clip3302\">\n",
       "    <rect x=\"194\" y=\"47\" width=\"2160\" height=\"1441\"/>\n",
       "  </clipPath>\n",
       "</defs>\n",
       "<polyline clip-path=\"url(#clip3302)\" style=\"stroke:#000000; stroke-width:2; stroke-opacity:0.1; fill:none\" points=\"\n",
       "  400.432,1487.47 400.432,47.2441 \n",
       "  \"/>\n",
       "<polyline clip-path=\"url(#clip3302)\" style=\"stroke:#000000; stroke-width:2; stroke-opacity:0.1; fill:none\" points=\"\n",
       "  794.325,1487.47 794.325,47.2441 \n",
       "  \"/>\n",
       "<polyline clip-path=\"url(#clip3302)\" style=\"stroke:#000000; stroke-width:2; stroke-opacity:0.1; fill:none\" points=\"\n",
       "  1188.22,1487.47 1188.22,47.2441 \n",
       "  \"/>\n",
       "<polyline clip-path=\"url(#clip3302)\" style=\"stroke:#000000; stroke-width:2; stroke-opacity:0.1; fill:none\" points=\"\n",
       "  1582.11,1487.47 1582.11,47.2441 \n",
       "  \"/>\n",
       "<polyline clip-path=\"url(#clip3302)\" style=\"stroke:#000000; stroke-width:2; stroke-opacity:0.1; fill:none\" points=\"\n",
       "  1976,1487.47 1976,47.2441 \n",
       "  \"/>\n",
       "<polyline clip-path=\"url(#clip3302)\" style=\"stroke:#000000; stroke-width:2; stroke-opacity:0.1; fill:none\" points=\"\n",
       "  194.041,1378.8 2352.76,1378.8 \n",
       "  \"/>\n",
       "<polyline clip-path=\"url(#clip3302)\" style=\"stroke:#000000; stroke-width:2; stroke-opacity:0.1; fill:none\" points=\"\n",
       "  194.041,1060.93 2352.76,1060.93 \n",
       "  \"/>\n",
       "<polyline clip-path=\"url(#clip3302)\" style=\"stroke:#000000; stroke-width:2; stroke-opacity:0.1; fill:none\" points=\"\n",
       "  194.041,743.071 2352.76,743.071 \n",
       "  \"/>\n",
       "<polyline clip-path=\"url(#clip3302)\" style=\"stroke:#000000; stroke-width:2; stroke-opacity:0.1; fill:none\" points=\"\n",
       "  194.041,425.209 2352.76,425.209 \n",
       "  \"/>\n",
       "<polyline clip-path=\"url(#clip3302)\" style=\"stroke:#000000; stroke-width:2; stroke-opacity:0.1; fill:none\" points=\"\n",
       "  194.041,107.346 2352.76,107.346 \n",
       "  \"/>\n",
       "<polyline clip-path=\"url(#clip3300)\" style=\"stroke:#000000; stroke-width:4; stroke-opacity:1; fill:none\" points=\"\n",
       "  194.041,1487.47 2352.76,1487.47 \n",
       "  \"/>\n",
       "<polyline clip-path=\"url(#clip3300)\" style=\"stroke:#000000; stroke-width:4; stroke-opacity:1; fill:none\" points=\"\n",
       "  194.041,1487.47 194.041,47.2441 \n",
       "  \"/>\n",
       "<polyline clip-path=\"url(#clip3300)\" style=\"stroke:#000000; stroke-width:4; stroke-opacity:1; fill:none\" points=\"\n",
       "  400.432,1487.47 400.432,1465.87 \n",
       "  \"/>\n",
       "<polyline clip-path=\"url(#clip3300)\" style=\"stroke:#000000; stroke-width:4; stroke-opacity:1; fill:none\" points=\"\n",
       "  794.325,1487.47 794.325,1465.87 \n",
       "  \"/>\n",
       "<polyline clip-path=\"url(#clip3300)\" style=\"stroke:#000000; stroke-width:4; stroke-opacity:1; fill:none\" points=\"\n",
       "  1188.22,1487.47 1188.22,1465.87 \n",
       "  \"/>\n",
       "<polyline clip-path=\"url(#clip3300)\" style=\"stroke:#000000; stroke-width:4; stroke-opacity:1; fill:none\" points=\"\n",
       "  1582.11,1487.47 1582.11,1465.87 \n",
       "  \"/>\n",
       "<polyline clip-path=\"url(#clip3300)\" style=\"stroke:#000000; stroke-width:4; stroke-opacity:1; fill:none\" points=\"\n",
       "  1976,1487.47 1976,1465.87 \n",
       "  \"/>\n",
       "<polyline clip-path=\"url(#clip3300)\" style=\"stroke:#000000; stroke-width:4; stroke-opacity:1; fill:none\" points=\"\n",
       "  194.041,1378.8 226.422,1378.8 \n",
       "  \"/>\n",
       "<polyline clip-path=\"url(#clip3300)\" style=\"stroke:#000000; stroke-width:4; stroke-opacity:1; fill:none\" points=\"\n",
       "  194.041,1060.93 226.422,1060.93 \n",
       "  \"/>\n",
       "<polyline clip-path=\"url(#clip3300)\" style=\"stroke:#000000; stroke-width:4; stroke-opacity:1; fill:none\" points=\"\n",
       "  194.041,743.071 226.422,743.071 \n",
       "  \"/>\n",
       "<polyline clip-path=\"url(#clip3300)\" style=\"stroke:#000000; stroke-width:4; stroke-opacity:1; fill:none\" points=\"\n",
       "  194.041,425.209 226.422,425.209 \n",
       "  \"/>\n",
       "<polyline clip-path=\"url(#clip3300)\" style=\"stroke:#000000; stroke-width:4; stroke-opacity:1; fill:none\" points=\"\n",
       "  194.041,107.346 226.422,107.346 \n",
       "  \"/>\n",
       "<g clip-path=\"url(#clip3300)\">\n",
       "<text style=\"fill:#000000; fill-opacity:1; font-family:Arial,Helvetica Neue,Helvetica,sans-serif; font-size:48px; text-anchor:middle;\" transform=\"rotate(0, 400.432, 1541.47)\" x=\"400.432\" y=\"1541.47\">300</text>\n",
       "</g>\n",
       "<g clip-path=\"url(#clip3300)\">\n",
       "<text style=\"fill:#000000; fill-opacity:1; font-family:Arial,Helvetica Neue,Helvetica,sans-serif; font-size:48px; text-anchor:middle;\" transform=\"rotate(0, 794.325, 1541.47)\" x=\"794.325\" y=\"1541.47\">600</text>\n",
       "</g>\n",
       "<g clip-path=\"url(#clip3300)\">\n",
       "<text style=\"fill:#000000; fill-opacity:1; font-family:Arial,Helvetica Neue,Helvetica,sans-serif; font-size:48px; text-anchor:middle;\" transform=\"rotate(0, 1188.22, 1541.47)\" x=\"1188.22\" y=\"1541.47\">900</text>\n",
       "</g>\n",
       "<g clip-path=\"url(#clip3300)\">\n",
       "<text style=\"fill:#000000; fill-opacity:1; font-family:Arial,Helvetica Neue,Helvetica,sans-serif; font-size:48px; text-anchor:middle;\" transform=\"rotate(0, 1582.11, 1541.47)\" x=\"1582.11\" y=\"1541.47\">1200</text>\n",
       "</g>\n",
       "<g clip-path=\"url(#clip3300)\">\n",
       "<text style=\"fill:#000000; fill-opacity:1; font-family:Arial,Helvetica Neue,Helvetica,sans-serif; font-size:48px; text-anchor:middle;\" transform=\"rotate(0, 1976, 1541.47)\" x=\"1976\" y=\"1541.47\">1500</text>\n",
       "</g>\n",
       "<g clip-path=\"url(#clip3300)\">\n",
       "<text style=\"fill:#000000; fill-opacity:1; font-family:Arial,Helvetica Neue,Helvetica,sans-serif; font-size:48px; text-anchor:end;\" transform=\"rotate(0, 170.041, 1396.3)\" x=\"170.041\" y=\"1396.3\">0</text>\n",
       "</g>\n",
       "<g clip-path=\"url(#clip3300)\">\n",
       "<text style=\"fill:#000000; fill-opacity:1; font-family:Arial,Helvetica Neue,Helvetica,sans-serif; font-size:48px; text-anchor:end;\" transform=\"rotate(0, 170.041, 1078.43)\" x=\"170.041\" y=\"1078.43\">500</text>\n",
       "</g>\n",
       "<g clip-path=\"url(#clip3300)\">\n",
       "<text style=\"fill:#000000; fill-opacity:1; font-family:Arial,Helvetica Neue,Helvetica,sans-serif; font-size:48px; text-anchor:end;\" transform=\"rotate(0, 170.041, 760.571)\" x=\"170.041\" y=\"760.571\">1000</text>\n",
       "</g>\n",
       "<g clip-path=\"url(#clip3300)\">\n",
       "<text style=\"fill:#000000; fill-opacity:1; font-family:Arial,Helvetica Neue,Helvetica,sans-serif; font-size:48px; text-anchor:end;\" transform=\"rotate(0, 170.041, 442.709)\" x=\"170.041\" y=\"442.709\">1500</text>\n",
       "</g>\n",
       "<g clip-path=\"url(#clip3300)\">\n",
       "<text style=\"fill:#000000; fill-opacity:1; font-family:Arial,Helvetica Neue,Helvetica,sans-serif; font-size:48px; text-anchor:end;\" transform=\"rotate(0, 170.041, 124.846)\" x=\"170.041\" y=\"124.846\">2000</text>\n",
       "</g>\n",
       "<polyline clip-path=\"url(#clip3302)\" style=\"stroke:#d968a2; stroke-width:4; stroke-opacity:1; fill:none\" points=\"\n",
       "  255.137,1446.71 2291.66,88.0053 \n",
       "  \"/>\n",
       "<circle clip-path=\"url(#clip3302)\" style=\"fill:#000000; stroke:none; fill-opacity:1\" cx=\"255.137\" cy=\"1145.99\" r=\"18\"/>\n",
       "<circle clip-path=\"url(#clip3302)\" style=\"fill:#009af9; stroke:none; fill-opacity:1\" cx=\"255.137\" cy=\"1145.99\" r=\"14\"/>\n",
       "<circle clip-path=\"url(#clip3302)\" style=\"fill:#000000; stroke:none; fill-opacity:1\" cx=\"493.26\" cy=\"1136.9\" r=\"18\"/>\n",
       "<circle clip-path=\"url(#clip3302)\" style=\"fill:#009af9; stroke:none; fill-opacity:1\" cx=\"493.26\" cy=\"1136.9\" r=\"14\"/>\n",
       "<circle clip-path=\"url(#clip3302)\" style=\"fill:#000000; stroke:none; fill-opacity:1\" cx=\"655.098\" cy=\"1135.69\" r=\"18\"/>\n",
       "<circle clip-path=\"url(#clip3302)\" style=\"fill:#009af9; stroke:none; fill-opacity:1\" cx=\"655.098\" cy=\"1135.69\" r=\"14\"/>\n",
       "<circle clip-path=\"url(#clip3302)\" style=\"fill:#000000; stroke:none; fill-opacity:1\" cx=\"784.656\" cy=\"1072.68\" r=\"18\"/>\n",
       "<circle clip-path=\"url(#clip3302)\" style=\"fill:#009af9; stroke:none; fill-opacity:1\" cx=\"784.656\" cy=\"1072.68\" r=\"14\"/>\n",
       "<circle clip-path=\"url(#clip3302)\" style=\"fill:#000000; stroke:none; fill-opacity:1\" cx=\"896.664\" cy=\"1018.71\" r=\"18\"/>\n",
       "<circle clip-path=\"url(#clip3302)\" style=\"fill:#009af9; stroke:none; fill-opacity:1\" cx=\"896.664\" cy=\"1018.71\" r=\"14\"/>\n",
       "<circle clip-path=\"url(#clip3302)\" style=\"fill:#000000; stroke:none; fill-opacity:1\" cx=\"998.111\" cy=\"1014.4\" r=\"18\"/>\n",
       "<circle clip-path=\"url(#clip3302)\" style=\"fill:#009af9; stroke:none; fill-opacity:1\" cx=\"998.111\" cy=\"1014.4\" r=\"14\"/>\n",
       "<circle clip-path=\"url(#clip3302)\" style=\"fill:#000000; stroke:none; fill-opacity:1\" cx=\"1093.03\" cy=\"966.521\" r=\"18\"/>\n",
       "<circle clip-path=\"url(#clip3302)\" style=\"fill:#009af9; stroke:none; fill-opacity:1\" cx=\"1093.03\" cy=\"966.521\" r=\"14\"/>\n",
       "<circle clip-path=\"url(#clip3302)\" style=\"fill:#000000; stroke:none; fill-opacity:1\" cx=\"1184.11\" cy=\"797.13\" r=\"18\"/>\n",
       "<circle clip-path=\"url(#clip3302)\" style=\"fill:#009af9; stroke:none; fill-opacity:1\" cx=\"1184.11\" cy=\"797.13\" r=\"14\"/>\n",
       "<circle clip-path=\"url(#clip3302)\" style=\"fill:#000000; stroke:none; fill-opacity:1\" cx=\"1273.4\" cy=\"785.502\" r=\"18\"/>\n",
       "<circle clip-path=\"url(#clip3302)\" style=\"fill:#009af9; stroke:none; fill-opacity:1\" cx=\"1273.4\" cy=\"785.502\" r=\"14\"/>\n",
       "<circle clip-path=\"url(#clip3302)\" style=\"fill:#000000; stroke:none; fill-opacity:1\" cx=\"1362.69\" cy=\"696.668\" r=\"18\"/>\n",
       "<circle clip-path=\"url(#clip3302)\" style=\"fill:#009af9; stroke:none; fill-opacity:1\" cx=\"1362.69\" cy=\"696.668\" r=\"14\"/>\n",
       "<circle clip-path=\"url(#clip3302)\" style=\"fill:#000000; stroke:none; fill-opacity:1\" cx=\"1453.77\" cy=\"673.672\" r=\"18\"/>\n",
       "<circle clip-path=\"url(#clip3302)\" style=\"fill:#009af9; stroke:none; fill-opacity:1\" cx=\"1453.77\" cy=\"673.672\" r=\"14\"/>\n",
       "<circle clip-path=\"url(#clip3302)\" style=\"fill:#000000; stroke:none; fill-opacity:1\" cx=\"1548.69\" cy=\"656.779\" r=\"18\"/>\n",
       "<circle clip-path=\"url(#clip3302)\" style=\"fill:#009af9; stroke:none; fill-opacity:1\" cx=\"1548.69\" cy=\"656.779\" r=\"14\"/>\n",
       "<circle clip-path=\"url(#clip3302)\" style=\"fill:#000000; stroke:none; fill-opacity:1\" cx=\"1650.13\" cy=\"516.013\" r=\"18\"/>\n",
       "<circle clip-path=\"url(#clip3302)\" style=\"fill:#009af9; stroke:none; fill-opacity:1\" cx=\"1650.13\" cy=\"516.013\" r=\"14\"/>\n",
       "<circle clip-path=\"url(#clip3302)\" style=\"fill:#000000; stroke:none; fill-opacity:1\" cx=\"1762.14\" cy=\"480.751\" r=\"18\"/>\n",
       "<circle clip-path=\"url(#clip3302)\" style=\"fill:#009af9; stroke:none; fill-opacity:1\" cx=\"1762.14\" cy=\"480.751\" r=\"14\"/>\n",
       "<circle clip-path=\"url(#clip3302)\" style=\"fill:#000000; stroke:none; fill-opacity:1\" cx=\"1891.7\" cy=\"457.243\" r=\"18\"/>\n",
       "<circle clip-path=\"url(#clip3302)\" style=\"fill:#009af9; stroke:none; fill-opacity:1\" cx=\"1891.7\" cy=\"457.243\" r=\"14\"/>\n",
       "<circle clip-path=\"url(#clip3302)\" style=\"fill:#000000; stroke:none; fill-opacity:1\" cx=\"2053.54\" cy=\"364.391\" r=\"18\"/>\n",
       "<circle clip-path=\"url(#clip3302)\" style=\"fill:#009af9; stroke:none; fill-opacity:1\" cx=\"2053.54\" cy=\"364.391\" r=\"14\"/>\n",
       "<circle clip-path=\"url(#clip3302)\" style=\"fill:#000000; stroke:none; fill-opacity:1\" cx=\"2291.66\" cy=\"287.928\" r=\"18\"/>\n",
       "<circle clip-path=\"url(#clip3302)\" style=\"fill:#009af9; stroke:none; fill-opacity:1\" cx=\"2291.66\" cy=\"287.928\" r=\"14\"/>\n",
       "</svg>\n"
      ]
     },
     "execution_count": 115,
     "metadata": {},
     "output_type": "execute_result"
    }
   ],
   "source": [
    "qqnorm(df.導電度[deleteat!(collect(1:25), [1,2,15,19,20,23])], qqline = :R)"
   ]
  },
  {
   "cell_type": "code",
   "execution_count": 171,
   "metadata": {},
   "outputs": [],
   "source": [
    "new_xb = []\n",
    "new_s = []\n",
    "for m in 26:39\n",
    "    append!(new_xb, mean(df.導電度[7(m-1) .+ collect(1:7)]))\n",
    "    append!(new_s, std(df.導電度[7(m-1) .+ collect(1:7)]))\n",
    "end"
   ]
  },
  {
   "cell_type": "code",
   "execution_count": 172,
   "metadata": {},
   "outputs": [
    {
     "data": {
      "text/plain": [
       "false"
      ]
     },
     "execution_count": 172,
     "metadata": {},
     "output_type": "execute_result"
    }
   ],
   "source": [
    "# phase2 sb\n",
    "p9 = Gadfly.plot(\n",
    "    layer(x = 1:14, y = new_s, Geom.point, Geom.line),\n",
    "    layer(yintercept = [sb, 0.118sb, 1.882sb], Geom.hline(color = \"red\", style = :dot))\n",
    ")\n",
    "draw(SVG(\"sbar6.svg\", 6inch, 4inch), p9)"
   ]
  },
  {
   "cell_type": "code",
   "execution_count": 173,
   "metadata": {},
   "outputs": [
    {
     "data": {
      "text/plain": [
       "false"
      ]
     },
     "execution_count": 173,
     "metadata": {},
     "output_type": "execute_result"
    }
   ],
   "source": [
    "# phase2 xb\n",
    "p10 = Gadfly.plot(\n",
    "    layer(x = 1:14, y = new_xb, Geom.point, Geom.line),\n",
    "    layer(yintercept = [xbb, xbb + 1.182sb, xbb - 1.182sb], Geom.hline(color = \"red\", style = :dot))\n",
    ")\n",
    "draw(SVG(\"xbar6.svg\", 6inch, 4inch), p10)"
   ]
  },
  {
   "cell_type": "code",
   "execution_count": 6,
   "metadata": {},
   "outputs": [
    {
     "data": {
      "text/html": [
       "<table class=\"data-frame\"><thead><tr><th></th><th>v1</th><th>v2</th><th>v3</th></tr><tr><th></th><th>String</th><th>Float64</th><th>Float64</th></tr></thead><tbody><p>34 rows × 3 columns</p><tr><th>1</th><td>大發</td><td>0.0631227</td><td>0.0631227</td></tr><tr><th>2</th><td>永安</td><td>0.0612302</td><td>0.124353</td></tr><tr><th>3</th><td>林園</td><td>0.0586608</td><td>0.183014</td></tr><tr><th>4</th><td>台南科技</td><td>0.0585395</td><td>0.241553</td></tr><tr><th>5</th><td>臨海</td><td>0.0562888</td><td>0.297842</td></tr><tr><th>6</th><td>大甲幼獅</td><td>0.0535316</td><td>0.351374</td></tr><tr><th>7</th><td>屏南</td><td>0.0520009</td><td>0.403375</td></tr><tr><th>8</th><td>觀音</td><td>0.0469048</td><td>0.450279</td></tr><tr><th>9</th><td>新營</td><td>0.0448217</td><td>0.495101</td></tr><tr><th>10</th><td>彰濱線西</td><td>0.0368206</td><td>0.531922</td></tr><tr><th>11</th><td>南崗</td><td>0.0351282</td><td>0.56705</td></tr><tr><th>12</th><td>大社</td><td>0.0332524</td><td>0.600302</td></tr><tr><th>13</th><td>民雄</td><td>0.0330208</td><td>0.633323</td></tr><tr><th>14</th><td>土城</td><td>0.0301895</td><td>0.663513</td></tr><tr><th>15</th><td>大園</td><td>0.0298143</td><td>0.693327</td></tr><tr><th>16</th><td>中壢</td><td>0.0274286</td><td>0.720755</td></tr><tr><th>17</th><td>斗六</td><td>0.0210402</td><td>0.741796</td></tr><tr><th>18</th><td>彰濱鹿港</td><td>0.0208886</td><td>0.762684</td></tr><tr><th>19</th><td>竹圍子</td><td>0.0205027</td><td>0.783187</td></tr><tr><th>20</th><td>龍德</td><td>0.0201106</td><td>0.803297</td></tr><tr><th>21</th><td>新竹</td><td>0.0194629</td><td>0.82276</td></tr><tr><th>22</th><td>官田</td><td>0.0182947</td><td>0.841055</td></tr><tr><th>23</th><td>永康</td><td>0.0182044</td><td>0.859259</td></tr><tr><th>24</th><td>桃園幼獅</td><td>0.0179591</td><td>0.877219</td></tr><tr><th>25</th><td>芳苑</td><td>0.0168425</td><td>0.894061</td></tr><tr><th>26</th><td>雲林科技</td><td>0.0167832</td><td>0.910844</td></tr><tr><th>27</th><td>平鎮</td><td>0.0155468</td><td>0.926391</td></tr><tr><th>28</th><td>台中</td><td>0.0128636</td><td>0.939255</td></tr><tr><th>29</th><td>龜山</td><td>0.0126449</td><td>0.9519</td></tr><tr><th>30</th><td>全興</td><td>0.0117575</td><td>0.963657</td></tr><tr><th>&vellip;</th><td>&vellip;</td><td>&vellip;</td><td>&vellip;</td></tr></tbody></table>"
      ],
      "text/latex": [
       "\\begin{tabular}{r|ccc}\n",
       "\t& v1 & v2 & v3\\\\\n",
       "\t\\hline\n",
       "\t& String & Float64 & Float64\\\\\n",
       "\t\\hline\n",
       "\t1 & 大發 & 0.0631227 & 0.0631227 \\\\\n",
       "\t2 & 永安 & 0.0612302 & 0.124353 \\\\\n",
       "\t3 & 林園 & 0.0586608 & 0.183014 \\\\\n",
       "\t4 & 台南科技 & 0.0585395 & 0.241553 \\\\\n",
       "\t5 & 臨海 & 0.0562888 & 0.297842 \\\\\n",
       "\t6 & 大甲幼獅 & 0.0535316 & 0.351374 \\\\\n",
       "\t7 & 屏南 & 0.0520009 & 0.403375 \\\\\n",
       "\t8 & 觀音 & 0.0469048 & 0.450279 \\\\\n",
       "\t9 & 新營 & 0.0448217 & 0.495101 \\\\\n",
       "\t10 & 彰濱線西 & 0.0368206 & 0.531922 \\\\\n",
       "\t11 & 南崗 & 0.0351282 & 0.56705 \\\\\n",
       "\t12 & 大社 & 0.0332524 & 0.600302 \\\\\n",
       "\t13 & 民雄 & 0.0330208 & 0.633323 \\\\\n",
       "\t14 & 土城 & 0.0301895 & 0.663513 \\\\\n",
       "\t15 & 大園 & 0.0298143 & 0.693327 \\\\\n",
       "\t16 & 中壢 & 0.0274286 & 0.720755 \\\\\n",
       "\t17 & 斗六 & 0.0210402 & 0.741796 \\\\\n",
       "\t18 & 彰濱鹿港 & 0.0208886 & 0.762684 \\\\\n",
       "\t19 & 竹圍子 & 0.0205027 & 0.783187 \\\\\n",
       "\t20 & 龍德 & 0.0201106 & 0.803297 \\\\\n",
       "\t21 & 新竹 & 0.0194629 & 0.82276 \\\\\n",
       "\t22 & 官田 & 0.0182947 & 0.841055 \\\\\n",
       "\t23 & 永康 & 0.0182044 & 0.859259 \\\\\n",
       "\t24 & 桃園幼獅 & 0.0179591 & 0.877219 \\\\\n",
       "\t25 & 芳苑 & 0.0168425 & 0.894061 \\\\\n",
       "\t26 & 雲林科技 & 0.0167832 & 0.910844 \\\\\n",
       "\t27 & 平鎮 & 0.0155468 & 0.926391 \\\\\n",
       "\t28 & 台中 & 0.0128636 & 0.939255 \\\\\n",
       "\t29 & 龜山 & 0.0126449 & 0.9519 \\\\\n",
       "\t30 & 全興 & 0.0117575 & 0.963657 \\\\\n",
       "\t$\\dots$ & $\\dots$ & $\\dots$ & $\\dots$ \\\\\n",
       "\\end{tabular}\n"
      ],
      "text/plain": [
       "34×3 DataFrame\n",
       "│ Row │ v1       │ v2         │ v3        │\n",
       "│     │ \u001b[90mString\u001b[39m   │ \u001b[90mFloat64\u001b[39m    │ \u001b[90mFloat64\u001b[39m   │\n",
       "├─────┼──────────┼────────────┼───────────┤\n",
       "│ 1   │ 大發     │ 0.0631227  │ 0.0631227 │\n",
       "│ 2   │ 永安     │ 0.0612302  │ 0.124353  │\n",
       "│ 3   │ 林園     │ 0.0586608  │ 0.183014  │\n",
       "│ 4   │ 台南科技 │ 0.0585395  │ 0.241553  │\n",
       "│ 5   │ 臨海     │ 0.0562888  │ 0.297842  │\n",
       "│ 6   │ 大甲幼獅 │ 0.0535316  │ 0.351374  │\n",
       "│ 7   │ 屏南     │ 0.0520009  │ 0.403375  │\n",
       "│ 8   │ 觀音     │ 0.0469048  │ 0.450279  │\n",
       "│ 9   │ 新營     │ 0.0448217  │ 0.495101  │\n",
       "│ 10  │ 彰濱線西 │ 0.0368206  │ 0.531922  │\n",
       "⋮\n",
       "│ 24  │ 桃園幼獅 │ 0.0179591  │ 0.877219  │\n",
       "│ 25  │ 芳苑     │ 0.0168425  │ 0.894061  │\n",
       "│ 26  │ 雲林科技 │ 0.0167832  │ 0.910844  │\n",
       "│ 27  │ 平鎮     │ 0.0155468  │ 0.926391  │\n",
       "│ 28  │ 台中     │ 0.0128636  │ 0.939255  │\n",
       "│ 29  │ 龜山     │ 0.0126449  │ 0.9519    │\n",
       "│ 30  │ 全興     │ 0.0117575  │ 0.963657  │\n",
       "│ 31  │ 安平     │ 0.0103619  │ 0.974019  │\n",
       "│ 32  │ 內埔     │ 0.0100505  │ 0.98407   │\n",
       "│ 33  │ 大武崙   │ 0.00975162 │ 0.993821  │\n",
       "│ 34  │ 新北     │ 0.00617885 │ 1.0       │"
      ]
     },
     "execution_count": 6,
     "metadata": {},
     "output_type": "execute_result"
    }
   ],
   "source": [
    "df2 = data |>\n",
    "    @groupby(_.廠名) |>\n",
    "    @map({v1 = key(_), v2 = mean(_.導電度)}) |>\n",
    "    DataFrame\n",
    "#=\n",
    "df2.v2 = df2.v2 ./ sum(df2.v2)\n",
    "df2 = df2 |>\n",
    "    @orderby_descending(_.v2) |>\n",
    "    DataFrame\n",
    "df2.v3 = cumsum(df2.v2);\n",
    "=#\n",
    "\n",
    "df2.v2 = df2.v2 ./ sum(df2.v2)\n",
    "df2 = df2 |>\n",
    "    @orderby_descending(_.v2) |>\n",
    "    DataFrame\n",
    "df2.v3 = cumsum(df2.v2);\n",
    "df2\n"
   ]
  },
  {
   "cell_type": "code",
   "execution_count": 8,
   "metadata": {},
   "outputs": [
    {
     "data": {
      "text/plain": [
       "false"
      ]
     },
     "execution_count": 8,
     "metadata": {},
     "output_type": "execute_result"
    }
   ],
   "source": [
    "p11 = Gadfly.plot(\n",
    "    layer(x = append!(df2.v1[1:9], [\"Others\"]), y = append!(df2.v2[1:9], sum(df2.v2[10:34])), Geom.bar),\n",
    "    layer(x = append!(df2.v1[1:9], [\"Others\"]), y = append!(df2.v3[1:9], 1), Geom.point, Geom.line)\n",
    ")\n",
    "draw(SVG(\"pareto.svg\", 6inch, 4inch), p11)"
   ]
  },
  {
   "cell_type": "code",
   "execution_count": 130,
   "metadata": {},
   "outputs": [
    {
     "data": {
      "text/html": [
       "<table class=\"data-frame\"><thead><tr><th></th><th>日期</th><th>廠名</th><th>導電度</th><th>氫離子濃度指標</th><th>水溫</th><th>廠名2</th></tr><tr><th></th><th>Date</th><th>String</th><th>Float64</th><th>Float64</th><th>Float64</th><th>String</th></tr></thead><tbody><p>8,689 rows × 6 columns</p><tr><th>1</th><td>2017-01-01</td><td>觀音</td><td>6126.7</td><td>7.1</td><td>27.8</td><td>觀音</td></tr><tr><th>2</th><td>2017-01-02</td><td>觀音</td><td>6367.2</td><td>7.2</td><td>24.4</td><td>觀音</td></tr><tr><th>3</th><td>2017-01-03</td><td>觀音</td><td>5772.53</td><td>7.2</td><td>26.8</td><td>觀音</td></tr><tr><th>4</th><td>2017-01-04</td><td>觀音</td><td>5822.92</td><td>7.0</td><td>28.8</td><td>觀音</td></tr><tr><th>5</th><td>2017-01-05</td><td>觀音</td><td>5824.17</td><td>6.9</td><td>29.5</td><td>觀音</td></tr><tr><th>6</th><td>2017-01-06</td><td>觀音</td><td>5938.8</td><td>6.9</td><td>29.8</td><td>觀音</td></tr><tr><th>7</th><td>2017-01-07</td><td>觀音</td><td>6002.55</td><td>6.9</td><td>30.4</td><td>觀音</td></tr><tr><th>8</th><td>2017-01-08</td><td>觀音</td><td>5342.09</td><td>6.8</td><td>30.4</td><td>觀音</td></tr><tr><th>9</th><td>2017-01-09</td><td>觀音</td><td>5286.18</td><td>6.8</td><td>28.2</td><td>觀音</td></tr><tr><th>10</th><td>2017-01-10</td><td>觀音</td><td>5972.68</td><td>6.8</td><td>27.3</td><td>觀音</td></tr><tr><th>11</th><td>2017-01-11</td><td>觀音</td><td>6312.86</td><td>6.8</td><td>27.9</td><td>觀音</td></tr><tr><th>12</th><td>2017-01-12</td><td>觀音</td><td>6373.58</td><td>6.8</td><td>28.5</td><td>觀音</td></tr><tr><th>13</th><td>2017-01-13</td><td>觀音</td><td>5898.15</td><td>6.8</td><td>28.2</td><td>觀音</td></tr><tr><th>14</th><td>2017-01-14</td><td>觀音</td><td>5802.22</td><td>6.6</td><td>26.1</td><td>觀音</td></tr><tr><th>15</th><td>2017-01-15</td><td>觀音</td><td>6009.09</td><td>6.6</td><td>25.1</td><td>觀音</td></tr><tr><th>16</th><td>2017-01-16</td><td>觀音</td><td>5812.98</td><td>6.7</td><td>24.8</td><td>觀音</td></tr><tr><th>17</th><td>2017-01-17</td><td>觀音</td><td>5163.55</td><td>6.7</td><td>25.8</td><td>觀音</td></tr><tr><th>18</th><td>2017-01-18</td><td>觀音</td><td>4747.18</td><td>6.8</td><td>27.6</td><td>觀音</td></tr><tr><th>19</th><td>2017-01-19</td><td>觀音</td><td>4797.5</td><td>6.8</td><td>28.6</td><td>觀音</td></tr><tr><th>20</th><td>2017-01-20</td><td>觀音</td><td>5315.13</td><td>6.8</td><td>26.8</td><td>觀音</td></tr><tr><th>21</th><td>2017-01-21</td><td>觀音</td><td>5541.35</td><td>6.8</td><td>25.9</td><td>觀音</td></tr><tr><th>22</th><td>2017-01-22</td><td>觀音</td><td>5839.21</td><td>6.7</td><td>25.3</td><td>觀音</td></tr><tr><th>23</th><td>2017-01-23</td><td>觀音</td><td>6104.54</td><td>6.8</td><td>23.9</td><td>觀音</td></tr><tr><th>24</th><td>2017-01-24</td><td>觀音</td><td>6168.92</td><td>6.9</td><td>23.9</td><td>觀音</td></tr><tr><th>25</th><td>2017-01-25</td><td>觀音</td><td>6289.62</td><td>6.8</td><td>24.6</td><td>觀音</td></tr><tr><th>26</th><td>2017-01-26</td><td>觀音</td><td>6824.24</td><td>6.8</td><td>24.5</td><td>觀音</td></tr><tr><th>27</th><td>2017-01-27</td><td>觀音</td><td>7154.88</td><td>6.9</td><td>21.0</td><td>觀音</td></tr><tr><th>28</th><td>2017-01-28</td><td>觀音</td><td>7227.73</td><td>7.2</td><td>18.7</td><td>觀音</td></tr><tr><th>29</th><td>2017-01-29</td><td>觀音</td><td>6548.57</td><td>7.3</td><td>20.1</td><td>觀音</td></tr><tr><th>30</th><td>2017-01-30</td><td>觀音</td><td>3870.69</td><td>7.0</td><td>17.9</td><td>觀音</td></tr><tr><th>&vellip;</th><td>&vellip;</td><td>&vellip;</td><td>&vellip;</td><td>&vellip;</td><td>&vellip;</td><td>&vellip;</td></tr></tbody></table>"
      ],
      "text/latex": [
       "\\begin{tabular}{r|cccccc}\n",
       "\t& 日期 & 廠名 & 導電度 & 氫離子濃度指標 & 水溫 & 廠名2\\\\\n",
       "\t\\hline\n",
       "\t& Date & String & Float64 & Float64 & Float64 & String\\\\\n",
       "\t\\hline\n",
       "\t1 & 2017-01-01 & 觀音 & 6126.7 & 7.1 & 27.8 & 觀音 \\\\\n",
       "\t2 & 2017-01-02 & 觀音 & 6367.2 & 7.2 & 24.4 & 觀音 \\\\\n",
       "\t3 & 2017-01-03 & 觀音 & 5772.53 & 7.2 & 26.8 & 觀音 \\\\\n",
       "\t4 & 2017-01-04 & 觀音 & 5822.92 & 7.0 & 28.8 & 觀音 \\\\\n",
       "\t5 & 2017-01-05 & 觀音 & 5824.17 & 6.9 & 29.5 & 觀音 \\\\\n",
       "\t6 & 2017-01-06 & 觀音 & 5938.8 & 6.9 & 29.8 & 觀音 \\\\\n",
       "\t7 & 2017-01-07 & 觀音 & 6002.55 & 6.9 & 30.4 & 觀音 \\\\\n",
       "\t8 & 2017-01-08 & 觀音 & 5342.09 & 6.8 & 30.4 & 觀音 \\\\\n",
       "\t9 & 2017-01-09 & 觀音 & 5286.18 & 6.8 & 28.2 & 觀音 \\\\\n",
       "\t10 & 2017-01-10 & 觀音 & 5972.68 & 6.8 & 27.3 & 觀音 \\\\\n",
       "\t11 & 2017-01-11 & 觀音 & 6312.86 & 6.8 & 27.9 & 觀音 \\\\\n",
       "\t12 & 2017-01-12 & 觀音 & 6373.58 & 6.8 & 28.5 & 觀音 \\\\\n",
       "\t13 & 2017-01-13 & 觀音 & 5898.15 & 6.8 & 28.2 & 觀音 \\\\\n",
       "\t14 & 2017-01-14 & 觀音 & 5802.22 & 6.6 & 26.1 & 觀音 \\\\\n",
       "\t15 & 2017-01-15 & 觀音 & 6009.09 & 6.6 & 25.1 & 觀音 \\\\\n",
       "\t16 & 2017-01-16 & 觀音 & 5812.98 & 6.7 & 24.8 & 觀音 \\\\\n",
       "\t17 & 2017-01-17 & 觀音 & 5163.55 & 6.7 & 25.8 & 觀音 \\\\\n",
       "\t18 & 2017-01-18 & 觀音 & 4747.18 & 6.8 & 27.6 & 觀音 \\\\\n",
       "\t19 & 2017-01-19 & 觀音 & 4797.5 & 6.8 & 28.6 & 觀音 \\\\\n",
       "\t20 & 2017-01-20 & 觀音 & 5315.13 & 6.8 & 26.8 & 觀音 \\\\\n",
       "\t21 & 2017-01-21 & 觀音 & 5541.35 & 6.8 & 25.9 & 觀音 \\\\\n",
       "\t22 & 2017-01-22 & 觀音 & 5839.21 & 6.7 & 25.3 & 觀音 \\\\\n",
       "\t23 & 2017-01-23 & 觀音 & 6104.54 & 6.8 & 23.9 & 觀音 \\\\\n",
       "\t24 & 2017-01-24 & 觀音 & 6168.92 & 6.9 & 23.9 & 觀音 \\\\\n",
       "\t25 & 2017-01-25 & 觀音 & 6289.62 & 6.8 & 24.6 & 觀音 \\\\\n",
       "\t26 & 2017-01-26 & 觀音 & 6824.24 & 6.8 & 24.5 & 觀音 \\\\\n",
       "\t27 & 2017-01-27 & 觀音 & 7154.88 & 6.9 & 21.0 & 觀音 \\\\\n",
       "\t28 & 2017-01-28 & 觀音 & 7227.73 & 7.2 & 18.7 & 觀音 \\\\\n",
       "\t29 & 2017-01-29 & 觀音 & 6548.57 & 7.3 & 20.1 & 觀音 \\\\\n",
       "\t30 & 2017-01-30 & 觀音 & 3870.69 & 7.0 & 17.9 & 觀音 \\\\\n",
       "\t$\\dots$ & $\\dots$ & $\\dots$ & $\\dots$ & $\\dots$ & $\\dots$ & $\\dots$ \\\\\n",
       "\\end{tabular}\n"
      ],
      "text/plain": [
       "8689×6 DataFrame\n",
       "│ Row  │ 日期       │ 廠名     │ 導電度  │ 氫離子濃度指標 │ 水溫    │ 廠名2  │\n",
       "│      │ \u001b[90mDate\u001b[39m       │ \u001b[90mString\u001b[39m   │ \u001b[90mFloat64\u001b[39m │ \u001b[90mFloat64\u001b[39m        │ \u001b[90mFloat64\u001b[39m │ \u001b[90mString\u001b[39m │\n",
       "├──────┼────────────┼──────────┼─────────┼────────────────┼─────────┼────────┤\n",
       "│ 1    │ 2017-01-01 │ 觀音     │ 6126.7  │ 7.1            │ 27.8    │ 觀音   │\n",
       "│ 2    │ 2017-01-02 │ 觀音     │ 6367.2  │ 7.2            │ 24.4    │ 觀音   │\n",
       "│ 3    │ 2017-01-03 │ 觀音     │ 5772.53 │ 7.2            │ 26.8    │ 觀音   │\n",
       "│ 4    │ 2017-01-04 │ 觀音     │ 5822.92 │ 7.0            │ 28.8    │ 觀音   │\n",
       "│ 5    │ 2017-01-05 │ 觀音     │ 5824.17 │ 6.9            │ 29.5    │ 觀音   │\n",
       "│ 6    │ 2017-01-06 │ 觀音     │ 5938.8  │ 6.9            │ 29.8    │ 觀音   │\n",
       "│ 7    │ 2017-01-07 │ 觀音     │ 6002.55 │ 6.9            │ 30.4    │ 觀音   │\n",
       "│ 8    │ 2017-01-08 │ 觀音     │ 5342.09 │ 6.8            │ 30.4    │ 觀音   │\n",
       "│ 9    │ 2017-01-09 │ 觀音     │ 5286.18 │ 6.8            │ 28.2    │ 觀音   │\n",
       "│ 10   │ 2017-01-10 │ 觀音     │ 5972.68 │ 6.8            │ 27.3    │ 觀音   │\n",
       "⋮\n",
       "│ 8679 │ 2017-12-11 │ 彰濱線西 │ 6142.83 │ 7.2            │ 22.1    │ Others │\n",
       "│ 8680 │ 2017-12-11 │ 龍德     │ 1743.05 │ 6.6            │ 20.2    │ 龍德   │\n",
       "│ 8681 │ 2017-12-11 │ 臨海     │ 9947.97 │ 6.6            │ 29.0    │ 臨海   │\n",
       "│ 8682 │ 2017-12-11 │ 永安     │ 8853.18 │ 6.8            │ 22.7    │ Others │\n",
       "│ 8683 │ 2017-12-11 │ 竹圍子   │ 3518.96 │ 7.2            │ 24.9    │ Others │\n",
       "│ 8684 │ 2017-12-11 │ 永康     │ 2898.05 │ 7.9            │ 22.9    │ Others │\n",
       "│ 8685 │ 2017-12-11 │ 全興     │ 1446.51 │ 6.6            │ 31.0    │ Others │\n",
       "│ 8686 │ 2017-12-11 │ 新竹     │ 3477.18 │ 6.9            │ 24.0    │ Others │\n",
       "│ 8687 │ 2017-12-11 │ 土城     │ 5263.09 │ 7.2            │ 25.6    │ Others │\n",
       "│ 8688 │ 2017-12-11 │ 林園     │ 10153.3 │ 7.4            │ 23.0    │ Others │\n",
       "│ 8689 │ 2017-12-11 │ 桃園幼獅 │ 3843.63 │ 6.9            │ 17.1    │ Others │"
      ]
     },
     "execution_count": 130,
     "metadata": {},
     "output_type": "execute_result"
    }
   ],
   "source": [
    "function m(x)\n",
    "    if x in df2.v1[1:7]\n",
    "        return x\n",
    "    else\n",
    "        return \"Others\"\n",
    "    end\n",
    "end\n",
    "data.廠名2 = m.(data.廠名)\n",
    "data"
   ]
  },
  {
   "cell_type": "code",
   "execution_count": 185,
   "metadata": {},
   "outputs": [
    {
     "data": {
      "text/plain": [
       "([312.8631614020924, 36.9178530454469, 588.8084697587378], [1511.7930624013854, 1881.5973191786586, 1141.9888056241123])"
      ]
     },
     "execution_count": 185,
     "metadata": {},
     "output_type": "execute_result"
    }
   ],
   "source": [
    "(xbb, sb) = (1511.7930624013854, 312.8631614020924)\n",
    "[sb, 0.118sb, 1.882sb],\n",
    "[xbb, xbb + 1.182sb, xbb - 1.182sb]"
   ]
  },
  {
   "cell_type": "code",
   "execution_count": null,
   "metadata": {},
   "outputs": [],
   "source": []
  }
 ],
 "metadata": {
  "@webio": {
   "lastCommId": null,
   "lastKernelId": null
  },
  "kernelspec": {
   "display_name": "Julia 1.2.0",
   "language": "julia",
   "name": "julia-1.2"
  },
  "language_info": {
   "file_extension": ".jl",
   "mimetype": "application/julia",
   "name": "julia",
   "version": "1.2.0"
  }
 },
 "nbformat": 4,
 "nbformat_minor": 2
}
